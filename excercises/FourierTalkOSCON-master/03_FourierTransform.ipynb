{
 "cells": [
  {
   "cell_type": "code",
   "execution_count": 1,
   "metadata": {
    "collapsed": false
   },
   "outputs": [],
   "source": [
    "import scipy\n",
    "from scipy import *\n",
    "import matplotlib.pyplot as plt\n",
    "from matplotlib import *\n",
    "from __future__ import division\n",
    "#import scikit.audiolab as audio\n",
    "import numpy as np\n",
    "%matplotlib inline\n",
    "\n",
    "# Graphing helper function\n",
    "def setup_graph(title='', x_label='', y_label='', fig_size=None):\n",
    "    fig = plt.figure()\n",
    "    if fig_size != None:\n",
    "        fig.set_size_inches(fig_size[0], fig_size[1])\n",
    "    ax = fig.add_subplot(111)\n",
    "    ax.set_title(title)\n",
    "    ax.set_xlabel(x_label)\n",
    "    ax.set_ylabel(y_label)\n",
    "    "
   ]
  },
  {
   "cell_type": "markdown",
   "metadata": {},
   "source": [
    "---"
   ]
  },
  {
   "cell_type": "markdown",
   "metadata": {},
   "source": [
    "# Fourier Transform\n",
    "\n",
    "![Time to Frequency Domain](files/images/time_freq_domain.png)\n",
    "\n",
    "## The Fourier Transform is like a prism (not the NSA one)\n",
    "\n",
    "![Prism](files/images/prism.png)\n",
    "\n",
    "<br />\n",
    "---\n",
    "<br />\n",
    "\n",
    "## Fourier Transform Definition\n",
    "\n",
    "$$G(f) = \\int_{-\\infty}^\\infty g(t) e^{-i 2 \\pi f t} dt$$\n",
    "\n",
    "<br />\n",
    "For our purposes, we will just be using the discrete version...\n",
    "<br /><br />\n",
    "\n",
    "## Discrete Fourier Transform (DFT) Definition\n",
    "$$G(\\frac{n}{N}) = \\sum_{k=0}^{N-1} g(k) e^{-i 2 \\pi k \\frac{n}{N} }$$\n",
    "\n",
    "**Meaning**:\n",
    "\n",
    "* $N$ is the total number of samples\n",
    "* $g(k)$ is the kth sample for the time-domain function (i.e. the DFT input)\n",
    "* $G(\\frac{n}{N})$ is the output of the DFT for the frequency that is $\\frac{n}{N}$ cycles per sample; so to get the frequency, you have to multiply $n/N$ by the sample rate."
   ]
  },
  {
   "cell_type": "markdown",
   "metadata": {},
   "source": [
    "# How to represent waves"
   ]
  },
  {
   "cell_type": "code",
   "execution_count": 38,
   "metadata": {
    "collapsed": false
   },
   "outputs": [],
   "source": [
    "freq = 1 #hz - cycles per second\n",
    "amplitude = 3\n",
    "time_to_plot = 2 # second\n",
    "sample_rate = 10 # samples per second\n",
    "num_samples = sample_rate * time_to_plot\n",
    "\n",
    "t = linspace(0, time_to_plot, num_samples)\n",
    "signal = [amplitude * sin(freq * i * 2*pi) for i in t] # Explain the 2*pi"
   ]
  },
  {
   "cell_type": "markdown",
   "metadata": {},
   "source": [
    "### Why the 2*pi?\n",
    "\n",
    "* If we want a wave which completes 1 cycle per second, so sine must come back to the same position on a circle as the starting point\n",
    "* So one full rotation about a circle - $2 \\pi$ (in radians)\n",
    "\n",
    "![sine_curve](files/images/Sine_curve_drawing_animation.gif)"
   ]
  },
  {
   "cell_type": "markdown",
   "metadata": {},
   "source": [
    "# Plot the wave"
   ]
  },
  {
   "cell_type": "code",
   "execution_count": 39,
   "metadata": {
    "collapsed": false
   },
   "outputs": [
    {
     "data": {
      "text/plain": [
       "[<matplotlib.lines.Line2D at 0x111e00390>]"
      ]
     },
     "execution_count": 39,
     "metadata": {},
     "output_type": "execute_result"
    },
    {
     "data": {
      "image/png": "[encoded data removed]",
      "text/plain": [
       "<matplotlib.figure.Figure at 0x11176ad50>"
      ]
     },
     "metadata": {},
     "output_type": "display_data"
    }
   ],
   "source": [
    "setup_graph(x_label='time (in seconds)', y_label='amplitude', title='time domain')\n",
    "plt.plot(t, signal)"
   ]
  },
  {
   "cell_type": "markdown",
   "metadata": {},
   "source": [
    "# Convert to the Frequency Domain\n",
    "\n"
   ]
  },
  {
   "cell_type": "code",
   "execution_count": 40,
   "metadata": {
    "collapsed": false
   },
   "outputs": [],
   "source": [
    "fft_output = numpy.fft.rfft(signal)\n",
    "magnitude_only = [sqrt(i.real**2 + i.imag**2)/len(fft_output) for i in fft_output]\n",
    "frequencies = [(i*1.0/num_samples)*sample_rate for i in range(int(num_samples/2+1))]"
   ]
  },
  {
   "cell_type": "code",
   "execution_count": 41,
   "metadata": {
    "collapsed": false
   },
   "outputs": [
    {
     "data": {
      "text/plain": [
       "[<matplotlib.lines.Line2D at 0x111b94f90>]"
      ]
     },
     "execution_count": 41,
     "metadata": {},
     "output_type": "execute_result"
    },
    {
     "data": {
      "image/png": "[encoded data removed]",
      "text/plain": [
       "<matplotlib.figure.Figure at 0x111b94f10>"
      ]
     },
     "metadata": {},
     "output_type": "display_data"
    }
   ],
   "source": [
    "setup_graph(x_label='frequency (in Hz)', y_label='amplitude', title='frequency domain')\n",
    "plt.plot(frequencies, magnitude_only, 'r')"
   ]
  },
  {
   "cell_type": "markdown",
   "metadata": {},
   "source": [
    "## Question: So what does the Fourier Transform give us?\n",
    "\n",
    "* The amplitudes of simple sine waves\n",
    "* Their starting position - phase (we won't get into this part much)\n",
    "\n",
    "## Question: what sine wave frequencies are used?\n",
    "\n",
    "* Answer: This is determined by how many samples are provided to the Fourier Transform\n",
    "* Frequencies range from 0 to (number of samples) / 2\n",
    "* **Example: If your sample rate is 100Hz, and you give the FFT 100 samples, the FFT will return the amplitude of the components with frequencies 0 to 50Hz.**"
   ]
  },
  {
   "cell_type": "code",
   "execution_count": null,
   "metadata": {
    "collapsed": false
   },
   "outputs": [],
   "source": []
  }
 ],
 "metadata": {
  "kernelspec": {
   "display_name": "Python 2",
   "language": "python",
   "name": "python2"
  },
  "language_info": {
   "codemirror_mode": {
    "name": "ipython",
    "version": 2
   },
   "file_extension": ".py",
   "mimetype": "text/x-python",
   "name": "python",
   "nbconvert_exporter": "python",
   "pygments_lexer": "ipython2",
   "version": "2.7.11"
  }
 },
 "nbformat": 4,
 "nbformat_minor": 0
}
